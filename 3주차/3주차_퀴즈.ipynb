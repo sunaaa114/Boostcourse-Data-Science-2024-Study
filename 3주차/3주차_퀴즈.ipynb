{
 "cells": [
  {
   "cell_type": "markdown",
   "metadata": {},
   "source": [
    "# 3주차 퀴즈 - 건강검진 데이터로 가설겅정하기"
   ]
  },
  {
   "cell_type": "markdown",
   "metadata": {},
   "source": [
    "1. 분석의 시작 (단일선택 , 1점)\\\n",
    "    문제 중심의 데이터 분석을 시작하기 위해 가정 먼저 해야할 것으로 올바른 것을 고르세요.\n",
    "\n",
    "    - 데이터 가설 세우기\n",
    "    - 데이터의 그래프 또는 차트화\n",
    "    - 데이터 정렬"
   ]
  },
  {
   "cell_type": "markdown",
   "metadata": {},
   "source": [
    "- 정답 : 데이터 가설 세우기"
   ]
  },
  {
   "cell_type": "markdown",
   "metadata": {},
   "source": [
    "2. cp949 (단일선택 , 2점)\\\n",
    "    일부 csv file을 load할때 cp949 option을 사용하는 이유중 가장 올바른 것을 고르세요.\n",
    "\n",
    "    - 한글로 encoding되어 있는 csv file을 load할때 사용합니다.\n",
    "    - csv file의 line수가 2^16승 즉 65536이상이 되어 error 발생될 시 사용합니다.\n",
    "    - excel format의 csv file을 load할 때 사용합니다.\n",
    "    - file load시에 ram의 부하용량을 줄이기 위해 사용합니다."
   ]
  },
  {
   "cell_type": "markdown",
   "metadata": {},
   "source": [
    "- 정답 : 한글로 encoding되어 있는 csv file을 load할때 사용합니다."
   ]
  },
  {
   "cell_type": "markdown",
   "metadata": {},
   "source": [
    "3. 데이터 미리보기 (단일선택 , 2점)\\\n",
    "    csv file을 load한 데이터 변수 df 를 간략히 '미리보기'하고자 하는데 성질이 다른 하나를 고르세요.\n",
    "\n",
    "    - df.head(5)\n",
    "    - df.tail(3)\n",
    "    - df.sample()\n",
    "    - df.info()"
   ]
  },
  {
   "cell_type": "markdown",
   "metadata": {},
   "source": [
    "- 정답 : df.info()"
   ]
  },
  {
   "cell_type": "markdown",
   "metadata": {},
   "source": [
    "4. 결측치 보기 (단일선택 , 5점)\\\n",
    "    dataframe에서 결측치를 확인하기 위해 df.isnull().sum()을 사용합니다.\n",
    "\n",
    "    그러면 결측치가 전체 행에서 차지하는 비율을 확인하는 코드를 찾아주세요.\n",
    "\n",
    "    - df.isnull().mean()\n",
    "    - df.isnull().max()\n",
    "    - df.isnull().describe()\n",
    "    - df.isnull().median()"
   ]
  },
  {
   "cell_type": "markdown",
   "metadata": {},
   "source": [
    "- 정답 : df.isnull().mean()"
   ]
  },
  {
   "cell_type": "markdown",
   "metadata": {},
   "source": [
    "5. 차트그리기 (단일선택 , 1점)\\\n",
    "    아래 그림과 같이 전체 데이터프레임의 데이터에 대한 히스토그램 정보를 plot하기 위한 예시입니다.\n",
    "\n",
    "    예시의 코드에서 □안에 들어갈 코드로 알맞은 것을 고르세요.\n",
    "\n",
    " \n",
    "    예시 )\n",
    "    ```python\n",
    "    h = df.□(figsize=(12, 12))\n",
    "    ```\n",
    "\n",
    "    ![image](https://cphinf.pstatic.net/mooc/20200306_156/1583467885534bL5TO_PNG/_004.png)\n",
    "\n",
    "    - hist\n",
    "    - bar\n",
    "    - line\n",
    "    - scatter\n",
    "    - barh"
   ]
  },
  {
   "cell_type": "markdown",
   "metadata": {},
   "source": [
    "- 정답 : hist"
   ]
  },
  {
   "cell_type": "markdown",
   "metadata": {},
   "source": [
    "6. seaborn chart (단일선택 , 1점)\\\n",
    "    아래의 그림은 seaborn library를 이용한 countplot 입니다.\n",
    "\n",
    "    아래의 그림을 plot하기 위해 예시 코드의 □에 들어갈 option으로 알맞은 것을 고르세요.\n",
    "\n",
    " \n",
    "\n",
    "    예시코드)\n",
    "    ```python\n",
    "    plt.figure(figsize=(15,4))\n",
    "    sns.countplot(data=df,x=\"체중(5kg 단위)\", □=\"성별코드\")\n",
    "    ```\n",
    "    \n",
    "    ![image](https://cphinf.pstatic.net/mooc/20200306_271/1583469703800cNyRj_PNG/_005.png)\n",
    "\n",
    "    - col\n",
    "    - hue\n",
    "    - y\n",
    "    - color"
   ]
  },
  {
   "cell_type": "markdown",
   "metadata": {},
   "source": [
    "- 정답 : hue"
   ]
  },
  {
   "cell_type": "markdown",
   "metadata": {},
   "source": [
    "7. 차트 (단일선택 , 1점)\\\n",
    "    예시의 코드는 그림과 같이 편차와 신뢰 구간을 그림자의 형태로 보여주는 코드입니다.\n",
    "\n",
    "    □안에 들어갈 코드로 올바른 것을 고르시오.\n",
    "\n",
    "    \n",
    "\n",
    "    예시코드)\n",
    "    ```python\n",
    "    sns.□plot(data = df.sample, x=\"연령대코드(5세단위)\",y=\"신장(5Cm단위)\",hue=\"음주여부\",ci=\"sd\")\n",
    "    ```\n",
    "\n",
    "    ![image](https://cphinf.pstatic.net/mooc/20200306_291/1583472199105hr1tK_PNG/_007.png)\n",
    "    \n",
    "    - line\n",
    "    - point\n",
    "    - bar\n",
    "    - count"
   ]
  },
  {
   "cell_type": "markdown",
   "metadata": {},
   "source": [
    "- 정답 : line"
   ]
  },
  {
   "cell_type": "markdown",
   "metadata": {},
   "source": [
    "8. 차트 (다중선택 , 2점)\\\n",
    "    보기의 seaborn chart중 데이터들간의 상관관계를 파악할때 가장 많이 쓰이는 chart 2개를 고르시오.\n",
    "\n",
    "    - lmplot\n",
    "    - pointplot\n",
    "    - countplot\n",
    "    - scatterplot\n",
    "    - boxplot"
   ]
  },
  {
   "cell_type": "markdown",
   "metadata": {},
   "source": [
    "- 정답 : lmplot, scatterplot"
   ]
  },
  {
   "cell_type": "markdown",
   "metadata": {},
   "source": [
    "9. 시각화 (단일선택 , 3점)\\\n",
    "    아래 그림과 같은 heatmap은 데이터를 바로 사용하기 앞서 전처리가 작업이 필요합니다.\n",
    "\n",
    "    그림과 같은 상관관계 heatmap을 plot하기 위해 데이터 전처리 과정 중 가장 필요한 것 하나를 고르세요.\n",
    "\n",
    "    ![image](https://cphinf.pstatic.net/mooc/20200306_86/1583473139547MOHLo_PNG/_008.png)\n",
    "\n",
    "    - 데이터 correlation( df.corr())\n",
    "    - 데이터 정렬(df.sort_values())\n",
    "    - 데이터 random samplling(df.sample())\n",
    "    - 데이터 columns naming"
   ]
  },
  {
   "cell_type": "markdown",
   "metadata": {},
   "source": [
    "- 정답 : 데이터 correlation( df.corr())"
   ]
  },
  {
   "cell_type": "markdown",
   "metadata": {},
   "source": [
    "10. 데이터 집계 (단일선택 , 3점)\\\n",
    "    성별, 학년, 나이, 신장, 몸무게의 데이터 컬럼을 가진 데이터프레임 df가 있다고 가정해 봅니다.\n",
    "    이 데이터 프레임을 성별과 학년에 따라 신장의 평균과 최소값과 최대값을 구하고자 합니다.\n",
    "    아래의 코드의  총 4개의 □들 안에 들어간 것으로 올바르게 짝지어진 것을 고르세요.\n",
    "\n",
    "    ```python\n",
    "    df.□([\"성별\",\"□\"])[\"□\"].□([\"mean\",\"min\",\"max\"])\n",
    "    ```\n",
    "\n",
    "    - groupby, 학년, 신장, agg\n",
    "    - pivot_table, 학년, 신장, agg\n",
    "    - groupby, 학년, 신장, map\n",
    "    - pivot_table, 학년, 신장, map\n",
    "    - groupby, 신장, 학년, agg\n",
    "    - pivot_table, 신장, 학년, map"
   ]
  },
  {
   "cell_type": "markdown",
   "metadata": {},
   "source": [
    "- 정답 : groupby, 학년, 신장, agg"
   ]
  }
 ],
 "metadata": {
  "language_info": {
   "name": "python"
  }
 },
 "nbformat": 4,
 "nbformat_minor": 2
}
