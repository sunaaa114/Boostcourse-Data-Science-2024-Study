{
 "cells": [
  {
   "cell_type": "markdown",
   "metadata": {},
   "source": [
    "# 1주차 퀴즈"
   ]
  },
  {
   "cell_type": "markdown",
   "metadata": {},
   "source": [
    "## Quiz 1-1. 데이터 분석을 위한 파이썬 기초"
   ]
  },
  {
   "cell_type": "markdown",
   "metadata": {},
   "source": [
    "1. **라이브러리나 패키지를 로드할 때 사용하는 것은 무엇일까요? (단답형 , 2점)**\\\n",
    "    파이썬의 이스터에그인 Zen of Python을 출력하려고 합니다. 다음의 빈칸을 채워주세요.\n",
    "    ```python\n",
    "    _______ this\n",
    "    ```"
   ]
  },
  {
   "cell_type": "markdown",
   "metadata": {},
   "source": [
    "- 정답 : import"
   ]
  },
  {
   "cell_type": "markdown",
   "metadata": {},
   "source": [
    "2. **다음 코드의 실행결과는 무엇일까요? (단일선택 , 1점)**\n",
    "    ```python\n",
    "    True == \"1\"\n",
    "    ```\n",
    "\n",
    "    - True\n",
    "    - False"
   ]
  },
  {
   "cell_type": "markdown",
   "metadata": {},
   "source": [
    "- 정답 : False"
   ]
  },
  {
   "cell_type": "markdown",
   "metadata": {},
   "source": [
    "3. **리스트에 원소를 추가하고자 합니다. (단일선택 , 2점)**\\\n",
    "    다음 리스트에 \"java\", \"c\"원소를 추가하고자 합니다. 어떤 메소드를 사용해야 될까요?\n",
    "    ```python\n",
    "    lang = [\"python\"]\n",
    "    ```\n",
    " \n",
    "\n",
    "    원하는 결과값은 다음과 같습니다.\n",
    "    ```python\n",
    "    lang = [\"python\", \"java\", \"c\"]\n",
    "    ```\n",
    "\n",
    "    - add\n",
    "    - append\n",
    "    - push\n",
    "    - expend"
   ]
  },
  {
   "cell_type": "markdown",
   "metadata": {},
   "source": [
    "- 정답 : append"
   ]
  },
  {
   "cell_type": "markdown",
   "metadata": {},
   "source": [
    "4. **for문을 사용할 때 인덱스 번호와 값을 함께 사용하고자 합니다. (단답형 , 3점)**\\\n",
    "    for문을 사용할 때 인덱스 번호와 값을 함께 사용하고자 합니다.다음 빈칸을 채워주세요.\n",
    "\n",
    "    ```python\n",
    "    for i, val in ________(lang):\n",
    "        print(i, val)\n",
    "    ```"
   ]
  },
  {
   "cell_type": "markdown",
   "metadata": {},
   "source": [
    "- 정답 : enumerate"
   ]
  },
  {
   "cell_type": "markdown",
   "metadata": {},
   "source": [
    "5. **짝수일 때 python을 홀수 일 때 java를 출력하게 하고자 합니다. (단답형 , 1점)**\\\n",
    "    아래 if 문 안의 __에 들어갈 연산자는 무엇일까요?\n",
    "\n",
    "    ```python\n",
    "    for i in range(1, 10):\n",
    "\n",
    "        if i __ 2== 0:\n",
    "            print(\"python\")\n",
    "        else:\n",
    "            print(\"java\")\n",
    "    ```"
   ]
  },
  {
   "cell_type": "markdown",
   "metadata": {},
   "source": [
    "- 정답 : %"
   ]
  },
  {
   "cell_type": "markdown",
   "metadata": {},
   "source": [
    "6. **아래 코드 실행 결과를 골라주세요. (단일선택 , 2점)**\\\n",
    "    아래의 코드를 실행했을 때 출력이 되는 값은 무엇일까요?\n",
    "\n",
    "    ```python\n",
    "    address = ['경기도', '성남시', '분당구', '불정로', '6', 'NAVER', '그린팩토리']\n",
    "\n",
    "    \"경기\" in address\n",
    "    ```\n",
    "\n",
    "    - True\n",
    "    - False"
   ]
  },
  {
   "cell_type": "markdown",
   "metadata": {},
   "source": [
    "- 정답 : False"
   ]
  },
  {
   "cell_type": "markdown",
   "metadata": {},
   "source": [
    "## Quiz 1-2. 판다스 피트시트를 활용한 기초 익히기"
   ]
  },
  {
   "cell_type": "markdown",
   "metadata": {},
   "source": [
    "1. **시리즈(Series) 자료구조 (단일선택 , 1점)**\\\n",
    "    시리즈(Series) 자료구조의 특징으로 올바르지 않은 것을 골라주세요.\n",
    "    - 2차원 자료구조\n",
    "    - 수학적으로 표현하면 벡터를 의미합니다.\n",
    "    - 데이터프레임에서 단일행 또는 단일열을 가져왔을 때 시리즈 형태로 나옵니다."
   ]
  },
  {
   "cell_type": "markdown",
   "metadata": {},
   "source": [
    "- 정답 : 2차원 자료구조"
   ]
  },
  {
   "cell_type": "markdown",
   "metadata": {},
   "source": [
    "2. **도움말 보기 (단일선택 , 2점)**\\\n",
    "    판다스의 메소드 내에서 docstring(도움말)을 볼 수 있는 단축키는 무엇일까요?\n",
    "    - shift + Enter\n",
    "    - ctrl + Enter\n",
    "    - alt + Enter\n",
    "    - shift + tab"
   ]
  },
  {
   "cell_type": "markdown",
   "metadata": {},
   "source": [
    "- 정답 : shift + tab"
   ]
  },
  {
   "cell_type": "markdown",
   "metadata": {},
   "source": [
    "3. **빈도수 구하기 (단일선택 , 1점)**\\\n",
    "    다음 판다스의 기능 중 Series 형태 데이터의 범주형 변수의 빈도수를 그룹화 해서 계산해 주는 기능은 무엇일까요?\n",
    "\n",
    "    - .count()\n",
    "    - .value_counts()\n",
    "    - .sum()\n",
    "    - .cumsum()"
   ]
  },
  {
   "cell_type": "markdown",
   "metadata": {},
   "source": [
    "- 정답 : .value_counts()"
   ]
  },
  {
   "cell_type": "markdown",
   "metadata": {},
   "source": [
    "4. **데이터프레임 (단일선택 , 1점)**\\\n",
    "    아래 보기에서 df라는 변수에 데이터프레임이 들어있다고 가정합시다.\\\n",
    "    이때 데이터프레임으로 반환되지 않는 값은 무엇일까요?\n",
    "\n",
    "    - df[\"컬럼명\"]\n",
    "    - df[[\"컬럼명1\", \"컬럼명2\"]]\n",
    "    - df.loc[[\"인덱스명\"]]\n",
    "    - df"
   ]
  },
  {
   "cell_type": "markdown",
   "metadata": {},
   "source": [
    "- 정답 : df[\"컬럼명\"]"
   ]
  },
  {
   "cell_type": "markdown",
   "metadata": {},
   "source": [
    "5. **drop 기능 사용하기 (단일선택 , 2점)**\\\n",
    "    아래 코드 중에 정상동작하는 코드를 골라주세요.\n",
    "\n",
    "    - df.drop([\"컬럼명\"], axis=1)\n",
    "    - df.drop([\"컬럼명\"], axis=0)\n",
    "    - df.drop(\"컬럼명1\", \"컬럼명2\", axis=1)\n",
    "    - df.drop([\"행인덱스명\"], axis=1)\n",
    "    - df.drop([\"컬럼명\"])"
   ]
  },
  {
   "cell_type": "markdown",
   "metadata": {},
   "source": [
    "- 정답 : df.drop([\"컬럼명\"], axis=1)"
   ]
  }
 ],
 "metadata": {
  "kernelspec": {
   "display_name": "data_analysis",
   "language": "python",
   "name": "python3"
  },
  "language_info": {
   "name": "python",
   "version": "3.10.14"
  }
 },
 "nbformat": 4,
 "nbformat_minor": 2
}
