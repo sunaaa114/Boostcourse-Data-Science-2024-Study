{
 "cells": [
  {
   "cell_type": "markdown",
   "metadata": {},
   "source": [
    "# 2주차 퀴즈 - 종합병원 분포 확인하기"
   ]
  },
  {
   "cell_type": "markdown",
   "metadata": {},
   "source": [
    "1. 시각화 기본 (단일선택, 1점)\\\n",
    "    다음은 Windows 사용하는 사용자가 Jupyter notebook을 통해 시각화를 하는 과정입니다.\\\n",
    "    \\\n",
    "    다음 중 잘못된 것은 몇번일까요?\n",
    "\n",
    "    - import matplotlib.pyplot as plt\n",
    "    - plt.rc('font', family='AppleGothic')\n",
    "    - plt.rc('axes', unicode_minus=False)\n",
    "    - %matplotlib inline\n"
   ]
  },
  {
   "cell_type": "markdown",
   "metadata": {},
   "source": [
    "- 정답 : plt.rc('font', family='AppleGothic')"
   ]
  },
  {
   "cell_type": "markdown",
   "metadata": {},
   "source": [
    "2. 설명이 바른 코드 찾기 (단일선택, 2점)\\\n",
    "    아래의 보기의 코드중에 항상 출력이 일정하지 않은 것을 고르세요.\n",
    "\n",
    "    - df.head(5)\n",
    "    - df.tail(1)\n",
    "    - df.sample(3)"
   ]
  },
  {
   "cell_type": "markdown",
   "metadata": {},
   "source": [
    "- 정답 : df.sample(3)"
   ]
  },
  {
   "cell_type": "markdown",
   "metadata": {},
   "source": [
    "3. 결측치 확인하기(단일선택, 3점)\\\n",
    "\n",
    "    상가(상권)정보_의료기관_201909.csv 를 df 라는 dataFrame에 load하였습니다.\\\n",
    "    \\\n",
    "    df 내의 결측치를 찾아 출력하는 코드 중 실행이 되지 않는 코드를 고르세요.\n",
    "\n",
    "    - df.isnull().sum().plot.bar()\n",
    "    - df.count().plot.barh()\n",
    "    - df.isnull().sum().plot.barh()\n",
    "    - df.count().count().plot.bar()\n",
    "    - df.isnull().sum().plot.bar(figsize=(5, 7))"
   ]
  },
  {
   "cell_type": "markdown",
   "metadata": {},
   "source": [
    "- 정답 : df.count().count().plot.bar()"
   ]
  },
  {
   "cell_type": "markdown",
   "metadata": {},
   "source": [
    "4. mean과 median의 차이(단일선택, 3점)\\\n",
    "\n",
    "    DataFrame의 연산에서 mean과 median의 의미로 알맞게 짝지어진 것을 고르세요.\n",
    "\n",
    "    \n",
    "\n",
    "    - mean은 평균값, median은 중앙값을 찾습니다.\n",
    "    - mean은 표준편차, median은 평균값을 찾습니다.\n",
    "    - mean은 표준편차, median은 중앙값을 찾습니다.\n",
    "    - mean은 중앙값, median은 평균값을 찾습니다.\n",
    "    - mean은 평균값, median은 표준편차값을 찾습니다."
   ]
  },
  {
   "cell_type": "markdown",
   "metadata": {},
   "source": [
    "- 정답 : mean은 평균값, median은 중앙값을 찾습니다."
   ]
  },
  {
   "cell_type": "markdown",
   "metadata": {},
   "source": [
    "5. library 맞추기(단일선택, 1점)\\\n",
    "\n",
    "    다음 중 지리 정보에 대한 시각화 library인 것을 고르세요.\n",
    "\n",
    "    - folium\n",
    "    - selenium\n",
    "    - numpy\n",
    "    - time\n",
    "    - pandas"
   ]
  },
  {
   "cell_type": "markdown",
   "metadata": {},
   "source": [
    "- 정답 : folium"
   ]
  },
  {
   "cell_type": "markdown",
   "metadata": {},
   "source": [
    "6. 다음의 예문을 출력할 수 있는 pandas 명령어를 찾아주세요.(단일선택, 1점)\\\n",
    "\n",
    "    그림과 같이 dataframe의 column들의 정보를 확인할수 있는 명령어를 고르세요.\n",
    "\n",
    "    ![dataframe의 column들의 정보를 확인](https://cphinf.pstatic.net/mooc/20200303_19/1583224866652rpD4R_PNG/_003.png)\n",
    "\n",
    "\n",
    "    - .isnull()\n",
    "    - .head()\n",
    "    - .columns\n",
    "    - .shape\n",
    "    - .info()"
   ]
  },
  {
   "cell_type": "markdown",
   "metadata": {},
   "source": [
    "- 정답 : .info()"
   ]
  }
 ],
 "metadata": {
  "language_info": {
   "name": "python"
  }
 },
 "nbformat": 4,
 "nbformat_minor": 2
}
