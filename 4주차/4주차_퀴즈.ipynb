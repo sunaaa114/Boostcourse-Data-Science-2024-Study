{
 "cells": [
  {
   "cell_type": "markdown",
   "metadata": {},
   "source": [
    "# 4주차 퀴즈 - K-beauty 온라인 판매분석"
   ]
  },
  {
   "cell_type": "markdown",
   "metadata": {},
   "source": [
    "1. 데이터프레임 다루기(단일선택, 2점)\n",
    "\n",
    "    다음 중 데이터프레임을 제어하는 명령 성질이 다른 것을 하나 고르세요.\n",
    "\n",
    "    \n",
    "    - pivot_table()\n",
    "    - stack()\n",
    "    - reset_index()\n",
    "    - groupby()\n",
    "    - melt()"
   ]
  },
  {
   "cell_type": "markdown",
   "metadata": {},
   "source": [
    "- 정답 : reset_index()"
   ]
  },
  {
   "cell_type": "markdown",
   "metadata": {},
   "source": [
    "2. 데이터 전처리(단일선택, 3점)\n",
    "\n",
    "    다음과 같은 df라는 이름의  데이터프레임이 있습니다.\n",
    "\n",
    "    마지막 column을 '쿼터'로 생성하여 '기간' column 에 있는 내용중 '2014 1/4' 중 '1/4'만 가져오려고 합니다. \n",
    "\n",
    "    해당 코드로 적당한 것을 고르세요.\n",
    "\n",
    "    ![image](https://cphinf.pstatic.net/mooc/20200306_278/1583501404148Yk8nk_PNG/_009.png)\n",
    "\n",
    "    - df['쿼터'] = df['기간'].map(lambda x: int(x.split()[-1]))\n",
    "    - df['쿼터'] = df['기간'].(lambda x: int(x.split()[1]))\n",
    "    - df['쿼터'] = df['기간'].map(lambda x: type(x.split()[1]))\n",
    "    - df['쿼터'] = df['기간'].map(x: int(x.split()[1]))\n",
    "    - df['쿼터'] = df['기간'].map(lambda peri : peri.split()[1])"
   ]
  },
  {
   "cell_type": "markdown",
   "metadata": {},
   "source": [
    "- 정답 : df['쿼터'] = df['기간'].map(lambda peri : peri.split()[1])"
   ]
  },
  {
   "cell_type": "markdown",
   "metadata": {},
   "source": [
    "3. 깊은복사와 얕은복사(단일선택, 5점)\n",
    "\n",
    "    아래의 코드는 데이터프레임을 생성하여 컬럼들의 연산으로 새로운 데이터프레임을 만드는 과정입니다.\n",
    "\n",
    "    컬럼 'A' 와 'C'를 컬럼 'B'와 'C'로 새로운 데이터 프레임을 만들고자 합니다.\n",
    "\n",
    "    이때 원본(df)은 그대로 두고 새로운 데이터프레임(df_new)에 값을 담아 사용하고자 합니다.\n",
    "\n",
    "    의도와는 다르게 동작할 수 있는 부분을 골라주세요.\n",
    "\n",
    "    - df = pd.DataFrame({\"A\":[1,4,7], \"B\":[2,5,8], \"C\":[3,6,9]})\n",
    "    - df_new = df\n",
    "    - df_new['A'] = df['B'] + df['C']\n",
    "    - df_new['C'] = df['A'] + df['B']"
   ]
  },
  {
   "cell_type": "markdown",
   "metadata": {},
   "source": [
    "- 정답 : df_new = df"
   ]
  },
  {
   "cell_type": "markdown",
   "metadata": {},
   "source": [
    "4. 데이터 시각화(단일선택, 1점)\n",
    "\n",
    "    다음의 코드는 아래의 시각화를 출력하는 코드입니다. chart의 xtick을 보면 기울어져있음을 알 수 있습니다.\n",
    "\n",
    "    코드 내에서 □안에 어떤 코드가 들어가야 chart의 xtick이 기울어져 출력이 되는지 올바른 것을 고르세요.\n",
    "\n",
    "    \n",
    "    ```python\n",
    "    plt.figure(figsize=(15, 4))\n",
    "    plt.xticks(□)\n",
    "    sns.lineplot(data=df_cosmetic, x=\"기간\", y=\"million\")\n",
    "    ```\n",
    "\n",
    "    - angle=30\n",
    "    - vertical=30\n",
    "    - lean(30)\n",
    "    - rotation=30"
   ]
  },
  {
   "cell_type": "markdown",
   "metadata": {},
   "source": [
    "- 정답 : rotation=30"
   ]
  },
  {
   "cell_type": "markdown",
   "metadata": {},
   "source": [
    "5. 데이터 전처리(단일선택, 1점)\n",
    "\n",
    "    아래 그림과 같은 데이터프레임의 'million' 컬럼의 경우 숫자도 NaN도 아닌 '-' 문자가 들어있습니다.\n",
    "\n",
    "    이는 데이터 처리함에 있어서 문제가 될 수 있기에 해당 문자들을 NaN으로 처리하고자 합니다.\n",
    "\n",
    "    코드에서 □안에 들어갈 코드로 적당한 것을 고르세요.\n",
    "\n",
    "    \n",
    "    ```python\n",
    "    df[\"million\"] = df[\"million\"].□(\"-\", pd.np.nan).astype(float)\n",
    "    ```\n",
    "\n",
    "    ![image](https://cphinf.pstatic.net/mooc/20200307_88/1583554068684xM9CY_PNG/_011.png)\n",
    "\n",
    "    - replace\n",
    "    - count\n",
    "    - copy\n",
    "    - rolling\n",
    "    - split"
   ]
  },
  {
   "cell_type": "markdown",
   "metadata": {},
   "source": [
    "- 정답 ： replace"
   ]
  },
  {
   "cell_type": "markdown",
   "metadata": {},
   "source": [
    "6. 차트 제목(단일선택, 1점)\n",
    "\n",
    "    아래의 chart를 출력하기 위한 코드입니다. '의류 및 패션관련 상품' 이란 제목을 출력하기 위해 코드의 □ 안에 들어갈 것으로 적당한 것을 고르세요.\n",
    "\n",
    "    \n",
    "    ```python\n",
    "    df_fashion = df[df[\"상품군별\"].str.contains(\"의류\")]\n",
    "    plt.figure(figsize=(15, 4))\n",
    "    plt.□(\"의류 및 패션관련 상품\")\n",
    "    plt.xticks(rotation=30)\n",
    "    sns.lineplot(data=df_fashion, x=\"기간\", y=\"million\", hue=\"국가(대륙)별\")\n",
    "    ```\n",
    "\n",
    "    ![image](https://cphinf.pstatic.net/mooc/20200307_94/1583555414360lo9q6_PNG/_012.png)\n",
    "\n",
    "    - title\n",
    "    - grid\n",
    "    - xlim\n",
    "    - subplot"
   ]
  },
  {
   "cell_type": "markdown",
   "metadata": {},
   "source": [
    "- 정답 : title"
   ]
  },
  {
   "cell_type": "markdown",
   "metadata": {},
   "source": [
    "7. 시각화(단일선택, 1점)\n",
    "\n",
    "    어떤 데이터를 아래 그림과 같이 column과 row가 하나씩 특징되는 데이터로 이루어져있습니다.\n",
    "\n",
    "    이렇게 이루어져 있지 않은 데이터들을 데이터 재구조화를 통해 만들수 있습니다.(groupby, pivot_table등등)\n",
    "\n",
    "    \n",
    "\n",
    "    아래의 그림에서는 column은 연도 row는 국가별 데이터로 데이터 재구조화된 상태입니다. \n",
    "\n",
    "    이러한 데이터를 전체적으로 가장 효과적으로 보여줄 수 있는 chart는 어떤 것이 있는지 하나만 고르세요.\n",
    "\n",
    "    ![image](https://cphinf.pstatic.net/mooc/20200307_219/1583557690257jgGK5_PNG/_013.png)\n",
    "\n",
    "    - lineplot\n",
    "    - barplot\n",
    "    - heatmap\n",
    "    - scatterplot\n",
    "    - boxplot"
   ]
  },
  {
   "cell_type": "markdown",
   "metadata": {},
   "source": [
    "- 정답 : heatmap"
   ]
  }
 ],
 "metadata": {
  "language_info": {
   "name": "python"
  }
 },
 "nbformat": 4,
 "nbformat_minor": 2
}
